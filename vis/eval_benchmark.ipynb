{
 "cells": [
  {
   "cell_type": "code",
   "execution_count": 1,
   "id": "d4b9cbc0-d073-4be3-b95e-e2e1dcb1461c",
   "metadata": {},
   "outputs": [],
   "source": [
    "import numpy as np\n",
    "from smart_open import open"
   ]
  },
  {
   "cell_type": "code",
   "execution_count": 36,
   "id": "b0bf5fa7-0a72-4752-8efa-993cc78dfa36",
   "metadata": {},
   "outputs": [],
   "source": [
    "info = {\n",
    "    10000: {},\n",
    "    60000: {}\n",
    "}\n",
    "\n",
    "with np.load(\"pisa_eval_data_10000\") as f:\n",
    "    info[10000][\"loss\"] = f[\"loss\"]\n",
    "    info[10000][\"correct\"] = f[\"correct\"]\n",
    "    info[10000][\"s2s_mask\"] = f[\"s2s_mask\"]\n",
    "    info[10000][\"entropy\"] = f[\"entropy\"]\n",
    "with np.load(\"pisa_eval_data_60000\") as f:\n",
    "    info[60000][\"loss\"] = f[\"loss\"]\n",
    "    info[60000][\"correct\"] = f[\"correct\"]\n",
    "    info[60000][\"s2s_mask\"] = f[\"s2s_mask\"]\n",
    "    info[60000][\"entropy\"] = f[\"entropy\"]"
   ]
  },
  {
   "cell_type": "code",
   "execution_count": 37,
   "id": "90609fc8-067e-45c6-b6b8-dd2f04683fc9",
   "metadata": {},
   "outputs": [],
   "source": [
    "a = info[10000]\n",
    "b = info[60000]"
   ]
  },
  {
   "cell_type": "code",
   "execution_count": 30,
   "id": "0e5cf56e-98fe-4716-9c21-59d0017f63b8",
   "metadata": {},
   "outputs": [
    {
     "data": {
      "text/plain": [
       "0.06581830978393555"
      ]
     },
     "execution_count": 30,
     "metadata": {},
     "output_type": "execute_result"
    }
   ],
   "source": [
    "(a[\"correct\"] * a[\"s2s_mask\"]).mean()"
   ]
  },
  {
   "cell_type": "code",
   "execution_count": 34,
   "id": "c5e94c2d-2f45-471d-a431-d10737ac379e",
   "metadata": {},
   "outputs": [
    {
     "data": {
      "text/plain": [
       "array([[0., 0., 0., ..., 1., 1., 0.],\n",
       "       [0., 0., 0., ..., 0., 0., 0.],\n",
       "       [0., 0., 0., ..., 0., 0., 0.],\n",
       "       ...,\n",
       "       [0., 0., 0., ..., 0., 0., 0.],\n",
       "       [0., 0., 0., ..., 0., 0., 0.],\n",
       "       [0., 0., 0., ..., 0., 0., 0.]], dtype=float32)"
      ]
     },
     "execution_count": 34,
     "metadata": {},
     "output_type": "execute_result"
    }
   ],
   "source": [
    "a[\"correct\"][:10, :]"
   ]
  },
  {
   "cell_type": "code",
   "execution_count": 43,
   "id": "95428d61-1eb4-4e06-8fb0-0bb29e1edfb7",
   "metadata": {},
   "outputs": [
    {
     "data": {
      "text/plain": [
       "array([[ True,  True,  True, ...,  True,  True,  True],\n",
       "       [ True,  True,  True, ...,  True,  True,  True],\n",
       "       [ True,  True,  True, ...,  True,  True,  True],\n",
       "       ...,\n",
       "       [ True,  True,  True, ...,  True,  True,  True],\n",
       "       [ True,  True,  True, ...,  True,  True,  True],\n",
       "       [ True,  True,  True, ...,  True,  True,  True]])"
      ]
     },
     "execution_count": 43,
     "metadata": {},
     "output_type": "execute_result"
    }
   ],
   "source": [
    "a[\"correct\"][:10, :] == b[\"correct\"][:10, :]"
   ]
  },
  {
   "cell_type": "code",
   "execution_count": 46,
   "id": "5612b223-3675-4ffb-91d2-43e8e2b5ae42",
   "metadata": {},
   "outputs": [
    {
     "data": {
      "text/plain": [
       "16244.665"
      ]
     },
     "execution_count": 46,
     "metadata": {},
     "output_type": "execute_result"
    }
   ],
   "source": [
    "(a[\"loss\"] * a[\"correct\"]).sum()"
   ]
  },
  {
   "cell_type": "code",
   "execution_count": 48,
   "id": "846043ad-708e-48ef-9be9-bc5dc980e0f1",
   "metadata": {},
   "outputs": [
    {
     "data": {
      "text/plain": [
       "108963.38"
      ]
     },
     "execution_count": 48,
     "metadata": {},
     "output_type": "execute_result"
    }
   ],
   "source": [
    "(a[\"loss\"] * (1-a[\"correct\"])).sum()"
   ]
  },
  {
   "cell_type": "code",
   "execution_count": 47,
   "id": "ead6a4ab-7c49-4a8c-a672-a8191f7a7777",
   "metadata": {},
   "outputs": [
    {
     "data": {
      "text/plain": [
       "4880.971"
      ]
     },
     "execution_count": 47,
     "metadata": {},
     "output_type": "execute_result"
    }
   ],
   "source": [
    "(b[\"loss\"] * b[\"correct\"]).sum()"
   ]
  },
  {
   "cell_type": "code",
   "execution_count": 49,
   "id": "8c3428ae-7c47-4ea5-a1ba-f9c0f1ae8e99",
   "metadata": {},
   "outputs": [
    {
     "data": {
      "text/plain": [
       "168290.92"
      ]
     },
     "execution_count": 49,
     "metadata": {},
     "output_type": "execute_result"
    }
   ],
   "source": [
    "(b[\"loss\"] * (1-b[\"correct\"])).sum()"
   ]
  },
  {
   "cell_type": "code",
   "execution_count": 25,
   "id": "a5fd1037-dbca-4a20-a05e-dde7fb66c63f",
   "metadata": {},
   "outputs": [
    {
     "name": "stdout",
     "output_type": "stream",
     "text": [
      "0.059703853\n",
      "0.0825748\n"
     ]
    }
   ],
   "source": [
    "print(info[10000][\"loss\"].mean())\n",
    "print(info[60000][\"loss\"].mean())"
   ]
  },
  {
   "cell_type": "code",
   "execution_count": 26,
   "id": "37635284-5f93-431f-a037-af4907f4099c",
   "metadata": {},
   "outputs": [
    {
     "name": "stdout",
     "output_type": "stream",
     "text": [
      "0.06581831\n",
      "0.067708015\n"
     ]
    }
   ],
   "source": [
    "print(info[10000][\"correct\"].mean())\n",
    "print(info[60000][\"correct\"].mean())"
   ]
  },
  {
   "cell_type": "code",
   "execution_count": 38,
   "id": "ffb0ce25-e604-4f99-bcab-a963c6833796",
   "metadata": {},
   "outputs": [
    {
     "name": "stdout",
     "output_type": "stream",
     "text": [
      "0.044554647\n",
      "nan\n"
     ]
    }
   ],
   "source": [
    "print(info[10000][\"entropy\"].mean())\n",
    "print(info[60000][\"entropy\"].mean())"
   ]
  },
  {
   "cell_type": "code",
   "execution_count": 41,
   "id": "946eb46d-096c-4201-bd6d-073e87ded169",
   "metadata": {},
   "outputs": [
    {
     "ename": "AttributeError",
     "evalue": "'numpy.ndarray' object has no attribute 'is_nan'",
     "output_type": "error",
     "traceback": [
      "\u001b[0;31m---------------------------------------------------------------------------\u001b[0m",
      "\u001b[0;31mAttributeError\u001b[0m                            Traceback (most recent call last)",
      "\u001b[0;32m/var/folders/13/62gk5s8n7mdd6zl7_0_7crb00000gn/T/ipykernel_48880/4056804549.py\u001b[0m in \u001b[0;36m<module>\u001b[0;34m\u001b[0m\n\u001b[0;32m----> 1\u001b[0;31m \u001b[0mb\u001b[0m\u001b[0;34m[\u001b[0m\u001b[0;34m\"entropy\"\u001b[0m\u001b[0;34m]\u001b[0m\u001b[0;34m.\u001b[0m\u001b[0mis_nan\u001b[0m\u001b[0;34m(\u001b[0m\u001b[0;34m)\u001b[0m\u001b[0;34m\u001b[0m\u001b[0;34m\u001b[0m\u001b[0m\n\u001b[0m",
      "\u001b[0;31mAttributeError\u001b[0m: 'numpy.ndarray' object has no attribute 'is_nan'"
     ]
    }
   ],
   "source": [
    "b[\"entropy\"]"
   ]
  }
 ],
 "metadata": {
  "kernelspec": {
   "display_name": "Python 3 (ipykernel)",
   "language": "python",
   "name": "python3"
  },
  "language_info": {
   "codemirror_mode": {
    "name": "ipython",
    "version": 3
   },
   "file_extension": ".py",
   "mimetype": "text/x-python",
   "name": "python",
   "nbconvert_exporter": "python",
   "pygments_lexer": "ipython3",
   "version": "3.9.7"
  }
 },
 "nbformat": 4,
 "nbformat_minor": 5
}
