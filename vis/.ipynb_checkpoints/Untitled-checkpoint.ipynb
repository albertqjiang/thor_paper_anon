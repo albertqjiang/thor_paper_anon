{
 "cells": [
  {
   "cell_type": "code",
   "execution_count": 2,
   "id": "e7798366-f258-49a9-960f-a2f367de0910",
   "metadata": {},
   "outputs": [],
   "source": [
    "import os\n",
    "import json\n",
    "hammer_path = \"hammer_eval\"\n",
    "hammer_success_indices = []\n",
    "hammer_fail_indices = []\n",
    "for file in os.listdir(hammer_path):\n",
    "    if file.endswith(\"out\"):\n",
    "        index = int(file.split(\"_\")[0].strip())\n",
    "        result = open(os.path.join(hammer_path, file)).read().strip()\n",
    "        if result == \"true\":\n",
    "            hammer_success_indices.append(index)\n",
    "        elif result == \"false\":\n",
    "            hammer_fail_indices.append(index)\n",
    "            \n",
    "lm_path = \"paper_800m_ablation_vanilla\"\n",
    "lm_success_indices = []\n",
    "lm_fail_indices = []\n",
    "for file in os.listdir(lm_path):\n",
    "    if file.endswith(\"json\"):\n",
    "        index = int(file.split(\".\")[0].strip())\n",
    "        result = json.load(open(os.path.join(lm_path, file)))[\"proved\"]\n",
    "        if result:\n",
    "            lm_success_indices.append(index)\n",
    "        else:\n",
    "            lm_fail_indices.append(index)"
   ]
  },
  {
   "cell_type": "code",
   "execution_count": 3,
   "id": "1a14edf1-ce51-46b0-886a-f303e3cdfe7f",
   "metadata": {},
   "outputs": [
    {
     "data": {
      "text/plain": [
       "744"
      ]
     },
     "execution_count": 3,
     "metadata": {},
     "output_type": "execute_result"
    }
   ],
   "source": [
    "len(hammer_success_indices)"
   ]
  },
  {
   "cell_type": "code",
   "execution_count": 4,
   "id": "cc8fa29e-eed6-416d-9052-3cc48e777840",
   "metadata": {},
   "outputs": [
    {
     "data": {
      "text/plain": [
       "1137"
      ]
     },
     "execution_count": 4,
     "metadata": {},
     "output_type": "execute_result"
    }
   ],
   "source": [
    "len(lm_success_indices)"
   ]
  },
  {
   "cell_type": "code",
   "execution_count": 5,
   "id": "a1aa08e0-57d2-437c-b797-650df3401e0d",
   "metadata": {},
   "outputs": [
    {
     "data": {
      "text/plain": [
       "1463"
      ]
     },
     "execution_count": 5,
     "metadata": {},
     "output_type": "execute_result"
    }
   ],
   "source": [
    "len(set(hammer_success_indices).union(set(lm_success_indices)))"
   ]
  },
  {
   "cell_type": "code",
   "execution_count": null,
   "id": "a830a178-548e-4018-8951-10149c612099",
   "metadata": {},
   "outputs": [],
   "source": []
  }
 ],
 "metadata": {
  "kernelspec": {
   "display_name": "Python 3 (ipykernel)",
   "language": "python",
   "name": "python3"
  },
  "language_info": {
   "codemirror_mode": {
    "name": "ipython",
    "version": 3
   },
   "file_extension": ".py",
   "mimetype": "text/x-python",
   "name": "python",
   "nbconvert_exporter": "python",
   "pygments_lexer": "ipython3",
   "version": "3.9.7"
  }
 },
 "nbformat": 4,
 "nbformat_minor": 5
}
