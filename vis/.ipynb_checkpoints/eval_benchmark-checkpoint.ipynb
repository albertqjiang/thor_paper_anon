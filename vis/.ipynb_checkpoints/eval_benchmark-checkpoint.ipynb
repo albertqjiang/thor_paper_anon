{
 "cells": [
  {
   "cell_type": "code",
   "execution_count": 1,
   "id": "d4b9cbc0-d073-4be3-b95e-e2e1dcb1461c",
   "metadata": {},
   "outputs": [],
   "source": [
    "import numpy as np\n",
    "from smart_open import open"
   ]
  },
  {
   "cell_type": "code",
   "execution_count": 7,
   "id": "b0bf5fa7-0a72-4752-8efa-993cc78dfa36",
   "metadata": {},
   "outputs": [],
   "source": [
    "info = {\n",
    "    10000: {},\n",
    "    60000: {}\n",
    "}\n",
    "\n",
    "with np.load(\"pisa_eval_data_10000\") as f:\n",
    "    step_10000 = f\n",
    "with np.load(\"pisa_eval_data_60000\") as f:\n",
    "    step_60000 = f"
   ]
  },
  {
   "cell_type": "code",
   "execution_count": 18,
   "id": "a5fd1037-dbca-4a20-a05e-dde7fb66c63f",
   "metadata": {},
   "outputs": [
    {
     "data": {
      "text/plain": [
       "['loss', 'correct', 's2s_mask', 'entropy']"
      ]
     },
     "execution_count": 18,
     "metadata": {},
     "output_type": "execute_result"
    }
   ],
   "source": [
    "step_10000.files"
   ]
  },
  {
   "cell_type": "code",
   "execution_count": 17,
   "id": "37635284-5f93-431f-a037-af4907f4099c",
   "metadata": {},
   "outputs": [
    {
     "data": {
      "text/plain": [
       "<numpy.lib.npyio.NpzFile at 0x7ff549c411f0>"
      ]
     },
     "execution_count": 17,
     "metadata": {},
     "output_type": "execute_result"
    }
   ],
   "source": [
    "step_10000"
   ]
  }
 ],
 "metadata": {
  "kernelspec": {
   "display_name": "Python 3 (ipykernel)",
   "language": "python",
   "name": "python3"
  },
  "language_info": {
   "codemirror_mode": {
    "name": "ipython",
    "version": 3
   },
   "file_extension": ".py",
   "mimetype": "text/x-python",
   "name": "python",
   "nbconvert_exporter": "python",
   "pygments_lexer": "ipython3",
   "version": "3.9.7"
  }
 },
 "nbformat": 4,
 "nbformat_minor": 5
}
